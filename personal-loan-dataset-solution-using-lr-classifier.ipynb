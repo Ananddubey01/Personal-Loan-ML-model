{
 "cells": [
  {
   "cell_type": "code",
   "execution_count": 1,
   "metadata": {
    "_cell_guid": "b1076dfc-b9ad-4769-8c92-a6c4dae69d19",
    "_uuid": "8f2839f25d086af736a60e9eeb907d3b93b6e0e5",
    "execution": {
     "iopub.execute_input": "2020-08-26T05:45:22.062639Z",
     "iopub.status.busy": "2020-08-26T05:45:22.061460Z",
     "iopub.status.idle": "2020-08-26T05:45:22.068688Z",
     "shell.execute_reply": "2020-08-26T05:45:22.067794Z"
    },
    "papermill": {
     "duration": 0.025895,
     "end_time": "2020-08-26T05:45:22.068867",
     "exception": false,
     "start_time": "2020-08-26T05:45:22.042972",
     "status": "completed"
    },
    "tags": []
   },
   "outputs": [
    {
     "name": "stdout",
     "output_type": "stream",
     "text": [
      "/kaggle/input/personal-loan/Bank_Personal_Loan_Modelling-1.xlsx\n"
     ]
    }
   ],
   "source": [
    "# This Python 3 environment comes with many helpful analytics libraries installed\n",
    "# It is defined by the kaggle/python Docker image: https://github.com/kaggle/docker-python\n",
    "# For example, here's several helpful packages to load\n",
    "\n",
    "import numpy as np # linear algebra\n",
    "import pandas as pd # data processing, CSV file I/O (e.g. pd.read_csv)\n",
    "\n",
    "# Input data files are available in the read-only \"../input/\" directory\n",
    "# For example, running this (by clicking run or pressing Shift+Enter) will list all files under the input directory\n",
    "\n",
    "import os\n",
    "for dirname, _, filenames in os.walk('/kaggle/input'):\n",
    "    for filename in filenames:\n",
    "        print(os.path.join(dirname, filename))\n",
    "\n",
    "# You can write up to 5GB to the current directory (/kaggle/working/) that gets preserved as output when you create a version using \"Save & Run All\" \n",
    "# You can also write temporary files to /kaggle/temp/, but they won't be saved outside of the current session"
   ]
  },
  {
   "cell_type": "code",
   "execution_count": 2,
   "metadata": {
    "_cell_guid": "79c7e3d0-c299-4dcb-8224-4455121ee9b0",
    "_uuid": "d629ff2d2480ee46fbb7e2d37f6b5fab8052498a",
    "execution": {
     "iopub.execute_input": "2020-08-26T05:45:22.095868Z",
     "iopub.status.busy": "2020-08-26T05:45:22.094990Z",
     "iopub.status.idle": "2020-08-26T05:45:22.119761Z",
     "shell.execute_reply": "2020-08-26T05:45:22.120408Z"
    },
    "papermill": {
     "duration": 0.04109,
     "end_time": "2020-08-26T05:45:22.120625",
     "exception": false,
     "start_time": "2020-08-26T05:45:22.079535",
     "status": "completed"
    },
    "tags": []
   },
   "outputs": [],
   "source": [
    "data_master = pd.read_csv('/kaggle/input/personal-loan/Bank_Personal_Loan_Modelling-1.xlsx')"
   ]
  },
  {
   "cell_type": "code",
   "execution_count": 3,
   "metadata": {
    "execution": {
     "iopub.execute_input": "2020-08-26T05:45:22.147860Z",
     "iopub.status.busy": "2020-08-26T05:45:22.146910Z",
     "iopub.status.idle": "2020-08-26T05:45:22.165188Z",
     "shell.execute_reply": "2020-08-26T05:45:22.164495Z"
    },
    "papermill": {
     "duration": 0.03493,
     "end_time": "2020-08-26T05:45:22.165354",
     "exception": false,
     "start_time": "2020-08-26T05:45:22.130424",
     "status": "completed"
    },
    "tags": []
   },
   "outputs": [
    {
     "name": "stdout",
     "output_type": "stream",
     "text": [
      "<class 'pandas.core.frame.DataFrame'>\n",
      "RangeIndex: 5000 entries, 0 to 4999\n",
      "Data columns (total 14 columns):\n",
      " #   Column              Non-Null Count  Dtype  \n",
      "---  ------              --------------  -----  \n",
      " 0   ID                  5000 non-null   int64  \n",
      " 1   Age                 5000 non-null   int64  \n",
      " 2   Experience          5000 non-null   int64  \n",
      " 3   Income              5000 non-null   int64  \n",
      " 4   ZIP Code            5000 non-null   int64  \n",
      " 5   Family              5000 non-null   int64  \n",
      " 6   CCAvg               5000 non-null   float64\n",
      " 7   Education           5000 non-null   int64  \n",
      " 8   Mortgage            5000 non-null   int64  \n",
      " 9   Personal Loan       5000 non-null   int64  \n",
      " 10  Securities Account  5000 non-null   int64  \n",
      " 11  CD Account          5000 non-null   int64  \n",
      " 12  Online              5000 non-null   int64  \n",
      " 13  CreditCard          5000 non-null   int64  \n",
      "dtypes: float64(1), int64(13)\n",
      "memory usage: 547.0 KB\n"
     ]
    }
   ],
   "source": [
    "data_master.info()"
   ]
  },
  {
   "cell_type": "code",
   "execution_count": 4,
   "metadata": {
    "execution": {
     "iopub.execute_input": "2020-08-26T05:45:22.194900Z",
     "iopub.status.busy": "2020-08-26T05:45:22.193787Z",
     "iopub.status.idle": "2020-08-26T05:45:22.198465Z",
     "shell.execute_reply": "2020-08-26T05:45:22.197702Z"
    },
    "papermill": {
     "duration": 0.02325,
     "end_time": "2020-08-26T05:45:22.198601",
     "exception": false,
     "start_time": "2020-08-26T05:45:22.175351",
     "status": "completed"
    },
    "tags": []
   },
   "outputs": [],
   "source": [
    "data_master.rename(columns = {'ZIP Code' : 'ZIP_Code', 'Personal Loan' : 'Personal_Loan', 'Securities Account' : 'Securities_Account',  'CD Account' : 'CD_Account',}, inplace = True)"
   ]
  },
  {
   "cell_type": "code",
   "execution_count": 5,
   "metadata": {
    "execution": {
     "iopub.execute_input": "2020-08-26T05:45:22.236124Z",
     "iopub.status.busy": "2020-08-26T05:45:22.235182Z",
     "iopub.status.idle": "2020-08-26T05:45:22.238779Z",
     "shell.execute_reply": "2020-08-26T05:45:22.238153Z"
    },
    "papermill": {
     "duration": 0.029697,
     "end_time": "2020-08-26T05:45:22.238925",
     "exception": false,
     "start_time": "2020-08-26T05:45:22.209228",
     "status": "completed"
    },
    "tags": []
   },
   "outputs": [],
   "source": [
    "X = data_master.drop(['Personal_Loan'], axis = 1)\n",
    "y = data_master.Personal_Loan"
   ]
  },
  {
   "cell_type": "code",
   "execution_count": 6,
   "metadata": {
    "execution": {
     "iopub.execute_input": "2020-08-26T05:45:22.266532Z",
     "iopub.status.busy": "2020-08-26T05:45:22.265706Z",
     "iopub.status.idle": "2020-08-26T05:45:23.377505Z",
     "shell.execute_reply": "2020-08-26T05:45:23.376612Z"
    },
    "papermill": {
     "duration": 1.128275,
     "end_time": "2020-08-26T05:45:23.377651",
     "exception": false,
     "start_time": "2020-08-26T05:45:22.249376",
     "status": "completed"
    },
    "tags": []
   },
   "outputs": [],
   "source": [
    "\n",
    "from sklearn.model_selection import train_test_split\n",
    "\n",
    "X_train, X_test, y_train, y_test = train_test_split(X, y, test_size = 0.3, random_state = 42)"
   ]
  },
  {
   "cell_type": "markdown",
   "execution_count": null,
   "metadata": {
    "papermill": {
     "duration": 0.010382,
     "end_time": "2020-08-26T05:45:23.398922",
     "exception": false,
     "start_time": "2020-08-26T05:45:23.388540",
     "status": "completed"
    },
    "tags": []
   },
   "source": [
    "**Logistic Regression**"
   ]
  },
  {
   "cell_type": "code",
   "execution_count": 7,
   "metadata": {
    "execution": {
     "iopub.execute_input": "2020-08-26T05:45:23.429789Z",
     "iopub.status.busy": "2020-08-26T05:45:23.428835Z",
     "iopub.status.idle": "2020-08-26T05:45:23.634551Z",
     "shell.execute_reply": "2020-08-26T05:45:23.633859Z"
    },
    "papermill": {
     "duration": 0.2252,
     "end_time": "2020-08-26T05:45:23.634693",
     "exception": false,
     "start_time": "2020-08-26T05:45:23.409493",
     "status": "completed"
    },
    "tags": []
   },
   "outputs": [
    {
     "name": "stdout",
     "output_type": "stream",
     "text": [
      "Training set score: 0.91\n",
      "Test set score: 0.90\n",
      "Classification result is :[0 0 0 ... 0 0 1]\n"
     ]
    }
   ],
   "source": [
    "from sklearn.linear_model import LogisticRegression\n",
    "from sklearn.svm import LinearSVC\n",
    "logreg = LogisticRegression().fit(X_train, y_train)\n",
    "print(\"Training set score: {:.2f}\".format(logreg.score(X_train, y_train)))\n",
    "print(\"Test set score: {:.2f}\".format(logreg.score(X_test, y_test)))\n",
    "y_pred=logreg.predict(X_test)\n",
    "print(\"Classification result is :{}\".format(y_pred[:]))\n"
   ]
  },
  {
   "cell_type": "markdown",
   "execution_count": null,
   "metadata": {
    "papermill": {
     "duration": 0.010792,
     "end_time": "2020-08-26T05:45:23.656271",
     "exception": false,
     "start_time": "2020-08-26T05:45:23.645479",
     "status": "completed"
    },
    "tags": []
   },
   "source": [
    "**Confusion Matrix, Recall score and Precision score**"
   ]
  },
  {
   "cell_type": "code",
   "execution_count": 8,
   "metadata": {
    "execution": {
     "iopub.execute_input": "2020-08-26T05:45:23.685911Z",
     "iopub.status.busy": "2020-08-26T05:45:23.685046Z",
     "iopub.status.idle": "2020-08-26T05:45:23.688918Z",
     "shell.execute_reply": "2020-08-26T05:45:23.688219Z"
    },
    "papermill": {
     "duration": 0.021618,
     "end_time": "2020-08-26T05:45:23.689058",
     "exception": false,
     "start_time": "2020-08-26T05:45:23.667440",
     "status": "completed"
    },
    "tags": []
   },
   "outputs": [],
   "source": [
    "from sklearn.metrics import recall_score, precision_score, confusion_matrix"
   ]
  },
  {
   "cell_type": "code",
   "execution_count": 9,
   "metadata": {
    "execution": {
     "iopub.execute_input": "2020-08-26T05:45:23.720073Z",
     "iopub.status.busy": "2020-08-26T05:45:23.718800Z",
     "iopub.status.idle": "2020-08-26T05:45:23.733882Z",
     "shell.execute_reply": "2020-08-26T05:45:23.734692Z"
    },
    "papermill": {
     "duration": 0.034701,
     "end_time": "2020-08-26T05:45:23.734907",
     "exception": false,
     "start_time": "2020-08-26T05:45:23.700206",
     "status": "completed"
    },
    "tags": []
   },
   "outputs": [
    {
     "name": "stdout",
     "output_type": "stream",
     "text": [
      "Recall score 0.6372296076376208\n",
      "Precision score 0.7280141843971631\n",
      "CONFUSION MATRIX [[1301   42]\n",
      " [ 109   48]]\n"
     ]
    }
   ],
   "source": [
    "print(\"Recall score\", recall_score(y_test, y_pred, average='macro'))\n",
    "print(\"Precision score\", precision_score(y_test, y_pred, average='macro'))\n",
    "print (\"CONFUSION MATRIX\", confusion_matrix(y_test, y_pred))"
   ]
  },
  {
   "cell_type": "code",
   "execution_count": null,
   "metadata": {
    "papermill": {
     "duration": 0.010891,
     "end_time": "2020-08-26T05:45:23.757018",
     "exception": false,
     "start_time": "2020-08-26T05:45:23.746127",
     "status": "completed"
    },
    "tags": []
   },
   "outputs": [],
   "source": []
  }
 ],
 "metadata": {
  "kernelspec": {
   "display_name": "Python 3",
   "language": "python",
   "name": "python3"
  },
  "language_info": {
   "codemirror_mode": {
    "name": "ipython",
    "version": 3
   },
   "file_extension": ".py",
   "mimetype": "text/x-python",
   "name": "python",
   "nbconvert_exporter": "python",
   "pygments_lexer": "ipython3",
   "version": "3.7.6"
  },
  "papermill": {
   "duration": 8.002777,
   "end_time": "2020-08-26T05:45:24.817613",
   "environment_variables": {},
   "exception": null,
   "input_path": "__notebook__.ipynb",
   "output_path": "__notebook__.ipynb",
   "parameters": {},
   "start_time": "2020-08-26T05:45:16.814836",
   "version": "2.1.0"
  }
 },
 "nbformat": 4,
 "nbformat_minor": 4
}
